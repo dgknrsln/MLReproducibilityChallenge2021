{
  "nbformat": 4,
  "nbformat_minor": 0,
  "metadata": {
    "colab": {
      "name": "blg561e_final_project_nlvr.ipynb",
      "provenance": [],
      "collapsed_sections": []
    },
    "kernelspec": {
      "name": "python3",
      "display_name": "Python 3"
    },
    "language_info": {
      "name": "python"
    },
    "accelerator": "GPU"
  },
  "cells": [
    {
      "cell_type": "markdown",
      "metadata": {
        "id": "EFToNDeuqE9v"
      },
      "source": [
        "# NLVR Experiment by using pre-trained VL-BART and VL-T5"
      ]
    },
    {
      "cell_type": "markdown",
      "metadata": {
        "id": "zgSUhoRppsQI"
      },
      "source": [
        "## Download code and install dependencies"
      ]
    },
    {
      "cell_type": "code",
      "metadata": {
        "colab": {
          "base_uri": "https://localhost:8080/"
        },
        "id": "6JMqvnesGnXG",
        "outputId": "26cadba8-fb72-4153-849d-8ad906e0d9f5"
      },
      "source": [
        "!git clone https://github.com/j-min/VL-T5\n"
      ],
      "execution_count": null,
      "outputs": [
        {
          "output_type": "stream",
          "name": "stdout",
          "text": [
            "fatal: destination path 'VL-T5' already exists and is not an empty directory.\n"
          ]
        }
      ]
    },
    {
      "cell_type": "code",
      "source": [
        "!ls"
      ],
      "metadata": {
        "colab": {
          "base_uri": "https://localhost:8080/"
        },
        "id": "9n42_sfxXByh",
        "outputId": "261b3c5e-c150-46d0-9473-0eeb3843e10c"
      },
      "execution_count": null,
      "outputs": [
        {
          "output_type": "stream",
          "name": "stdout",
          "text": [
            "sample_data  VL-T5\n"
          ]
        }
      ]
    },
    {
      "cell_type": "code",
      "metadata": {
        "colab": {
          "base_uri": "https://localhost:8080/"
        },
        "id": "U25Mz51oRxJH",
        "outputId": "9b6437c9-18b0-41e0-9945-f079bc79db79"
      },
      "source": [
        "!pip uninstall param -y # to resolve name conflict with src.param.py\n",
        "!pip install -r VL-T5/requirements.txt\n",
        "!python download_backbones.py"
      ],
      "execution_count": null,
      "outputs": [
        {
          "output_type": "stream",
          "name": "stdout",
          "text": [
            "Found existing installation: param 1.12.0\n",
            "Uninstalling param-1.12.0:\n",
            "  Successfully uninstalled param-1.12.0\n",
            "Collecting git+git://github.com/j-min/language-evaluation@master (from -r VL-T5/requirements.txt (line 12))\n",
            "  Cloning git://github.com/j-min/language-evaluation (to revision master) to /tmp/pip-req-build-hsi826ga\n",
            "  Running command git clone -q git://github.com/j-min/language-evaluation /tmp/pip-req-build-hsi826ga\n",
            "Collecting torch==1.6.0\n",
            "  Downloading torch-1.6.0-cp37-cp37m-manylinux1_x86_64.whl (748.8 MB)\n",
            "\u001b[K     |████████████████████████████████| 748.8 MB 19 kB/s \n",
            "\u001b[?25hCollecting transformers==4.2.1\n",
            "  Downloading transformers-4.2.1-py3-none-any.whl (1.8 MB)\n",
            "\u001b[K     |████████████████████████████████| 1.8 MB 41.6 MB/s \n",
            "\u001b[?25hCollecting sentencepiece\n",
            "  Downloading sentencepiece-0.1.96-cp37-cp37m-manylinux_2_17_x86_64.manylinux2014_x86_64.whl (1.2 MB)\n",
            "\u001b[K     |████████████████████████████████| 1.2 MB 39.0 MB/s \n",
            "\u001b[?25hRequirement already satisfied: h5py in /usr/local/lib/python3.7/dist-packages (from -r VL-T5/requirements.txt (line 4)) (3.1.0)\n",
            "Collecting wandb\n",
            "  Downloading wandb-0.12.9-py2.py3-none-any.whl (1.7 MB)\n",
            "\u001b[K     |████████████████████████████████| 1.7 MB 40.9 MB/s \n",
            "\u001b[?25hRequirement already satisfied: tqdm in /usr/local/lib/python3.7/dist-packages (from -r VL-T5/requirements.txt (line 6)) (4.62.3)\n",
            "Requirement already satisfied: numpy in /usr/local/lib/python3.7/dist-packages (from -r VL-T5/requirements.txt (line 7)) (1.19.5)\n",
            "Requirement already satisfied: pandas in /usr/local/lib/python3.7/dist-packages (from -r VL-T5/requirements.txt (line 8)) (1.1.5)\n",
            "Requirement already satisfied: matplotlib in /usr/local/lib/python3.7/dist-packages (from -r VL-T5/requirements.txt (line 9)) (3.2.2)\n",
            "Requirement already satisfied: pyyaml in /usr/local/lib/python3.7/dist-packages (from -r VL-T5/requirements.txt (line 10)) (3.13)\n",
            "Collecting sacrebleu\n",
            "  Downloading sacrebleu-2.0.0-py3-none-any.whl (90 kB)\n",
            "\u001b[K     |████████████████████████████████| 90 kB 10.1 MB/s \n",
            "\u001b[?25hCollecting torchvision==0.7.0\n",
            "  Downloading torchvision-0.7.0-cp37-cp37m-manylinux1_x86_64.whl (5.9 MB)\n",
            "\u001b[K     |████████████████████████████████| 5.9 MB 21.9 MB/s \n",
            "\u001b[?25hCollecting wget\n",
            "  Downloading wget-3.2.zip (10 kB)\n",
            "Requirement already satisfied: scikit-image in /usr/local/lib/python3.7/dist-packages (from language-evaluation==0.1.0->-r VL-T5/requirements.txt (line 12)) (0.18.3)\n",
            "Requirement already satisfied: absl-py in /usr/local/lib/python3.7/dist-packages (from language-evaluation==0.1.0->-r VL-T5/requirements.txt (line 12)) (0.12.0)\n",
            "Requirement already satisfied: nltk in /usr/local/lib/python3.7/dist-packages (from language-evaluation==0.1.0->-r VL-T5/requirements.txt (line 12)) (3.2.5)\n",
            "Requirement already satisfied: six in /usr/local/lib/python3.7/dist-packages (from language-evaluation==0.1.0->-r VL-T5/requirements.txt (line 12)) (1.15.0)\n",
            "Requirement already satisfied: more_itertools in /usr/local/lib/python3.7/dist-packages (from language-evaluation==0.1.0->-r VL-T5/requirements.txt (line 12)) (8.12.0)\n",
            "Collecting colorlog\n",
            "  Downloading colorlog-6.6.0-py2.py3-none-any.whl (11 kB)\n",
            "Requirement already satisfied: future in /usr/local/lib/python3.7/dist-packages (from torch==1.6.0->-r VL-T5/requirements.txt (line 1)) (0.16.0)\n",
            "Requirement already satisfied: packaging in /usr/local/lib/python3.7/dist-packages (from transformers==4.2.1->-r VL-T5/requirements.txt (line 2)) (21.3)\n",
            "Collecting tokenizers==0.9.4\n",
            "  Downloading tokenizers-0.9.4-cp37-cp37m-manylinux2010_x86_64.whl (2.9 MB)\n",
            "\u001b[K     |████████████████████████████████| 2.9 MB 37.2 MB/s \n",
            "\u001b[?25hRequirement already satisfied: importlib-metadata in /usr/local/lib/python3.7/dist-packages (from transformers==4.2.1->-r VL-T5/requirements.txt (line 2)) (4.10.0)\n",
            "Requirement already satisfied: filelock in /usr/local/lib/python3.7/dist-packages (from transformers==4.2.1->-r VL-T5/requirements.txt (line 2)) (3.4.2)\n",
            "Collecting sacremoses\n",
            "  Downloading sacremoses-0.0.47-py2.py3-none-any.whl (895 kB)\n",
            "\u001b[K     |████████████████████████████████| 895 kB 53.6 MB/s \n",
            "\u001b[?25hRequirement already satisfied: requests in /usr/local/lib/python3.7/dist-packages (from transformers==4.2.1->-r VL-T5/requirements.txt (line 2)) (2.23.0)\n",
            "Requirement already satisfied: regex!=2019.12.17 in /usr/local/lib/python3.7/dist-packages (from transformers==4.2.1->-r VL-T5/requirements.txt (line 2)) (2019.12.20)\n",
            "Requirement already satisfied: pillow>=4.1.1 in /usr/local/lib/python3.7/dist-packages (from torchvision==0.7.0->-r VL-T5/requirements.txt (line 13)) (7.1.2)\n",
            "Requirement already satisfied: cached-property in /usr/local/lib/python3.7/dist-packages (from h5py->-r VL-T5/requirements.txt (line 4)) (1.5.2)\n",
            "Collecting configparser>=3.8.1\n",
            "  Downloading configparser-5.2.0-py3-none-any.whl (19 kB)\n",
            "Collecting sentry-sdk>=1.0.0\n",
            "  Downloading sentry_sdk-1.5.3-py2.py3-none-any.whl (142 kB)\n",
            "\u001b[K     |████████████████████████████████| 142 kB 53.9 MB/s \n",
            "\u001b[?25hCollecting shortuuid>=0.5.0\n",
            "  Downloading shortuuid-1.0.8-py3-none-any.whl (9.5 kB)\n",
            "Requirement already satisfied: protobuf>=3.12.0 in /usr/local/lib/python3.7/dist-packages (from wandb->-r VL-T5/requirements.txt (line 5)) (3.17.3)\n",
            "Collecting GitPython>=1.0.0\n",
            "  Downloading GitPython-3.1.26-py3-none-any.whl (180 kB)\n",
            "\u001b[K     |████████████████████████████████| 180 kB 50.7 MB/s \n",
            "\u001b[?25hRequirement already satisfied: psutil>=5.0.0 in /usr/local/lib/python3.7/dist-packages (from wandb->-r VL-T5/requirements.txt (line 5)) (5.4.8)\n",
            "Collecting docker-pycreds>=0.4.0\n",
            "  Downloading docker_pycreds-0.4.0-py2.py3-none-any.whl (9.0 kB)\n",
            "Collecting subprocess32>=3.5.3\n",
            "  Downloading subprocess32-3.5.4.tar.gz (97 kB)\n",
            "\u001b[K     |████████████████████████████████| 97 kB 6.9 MB/s \n",
            "\u001b[?25hCollecting yaspin>=1.0.0\n",
            "  Downloading yaspin-2.1.0-py3-none-any.whl (18 kB)\n",
            "Requirement already satisfied: promise<3,>=2.0 in /usr/local/lib/python3.7/dist-packages (from wandb->-r VL-T5/requirements.txt (line 5)) (2.3)\n",
            "Collecting pathtools\n",
            "  Downloading pathtools-0.1.2.tar.gz (11 kB)\n",
            "Requirement already satisfied: python-dateutil>=2.6.1 in /usr/local/lib/python3.7/dist-packages (from wandb->-r VL-T5/requirements.txt (line 5)) (2.8.2)\n",
            "Requirement already satisfied: Click!=8.0.0,>=7.0 in /usr/local/lib/python3.7/dist-packages (from wandb->-r VL-T5/requirements.txt (line 5)) (7.1.2)\n",
            "Collecting gitdb<5,>=4.0.1\n",
            "  Downloading gitdb-4.0.9-py3-none-any.whl (63 kB)\n",
            "\u001b[K     |████████████████████████████████| 63 kB 1.9 MB/s \n",
            "\u001b[?25hRequirement already satisfied: typing-extensions>=3.7.4.3 in /usr/local/lib/python3.7/dist-packages (from GitPython>=1.0.0->wandb->-r VL-T5/requirements.txt (line 5)) (3.10.0.2)\n",
            "Collecting smmap<6,>=3.0.1\n",
            "  Downloading smmap-5.0.0-py3-none-any.whl (24 kB)\n",
            "Requirement already satisfied: chardet<4,>=3.0.2 in /usr/local/lib/python3.7/dist-packages (from requests->transformers==4.2.1->-r VL-T5/requirements.txt (line 2)) (3.0.4)\n",
            "Requirement already satisfied: urllib3!=1.25.0,!=1.25.1,<1.26,>=1.21.1 in /usr/local/lib/python3.7/dist-packages (from requests->transformers==4.2.1->-r VL-T5/requirements.txt (line 2)) (1.24.3)\n",
            "Requirement already satisfied: idna<3,>=2.5 in /usr/local/lib/python3.7/dist-packages (from requests->transformers==4.2.1->-r VL-T5/requirements.txt (line 2)) (2.10)\n",
            "Requirement already satisfied: certifi>=2017.4.17 in /usr/local/lib/python3.7/dist-packages (from requests->transformers==4.2.1->-r VL-T5/requirements.txt (line 2)) (2021.10.8)\n",
            "Requirement already satisfied: termcolor<2.0.0,>=1.1.0 in /usr/local/lib/python3.7/dist-packages (from yaspin>=1.0.0->wandb->-r VL-T5/requirements.txt (line 5)) (1.1.0)\n",
            "Requirement already satisfied: pytz>=2017.2 in /usr/local/lib/python3.7/dist-packages (from pandas->-r VL-T5/requirements.txt (line 8)) (2018.9)\n",
            "Requirement already satisfied: pyparsing!=2.0.4,!=2.1.2,!=2.1.6,>=2.0.1 in /usr/local/lib/python3.7/dist-packages (from matplotlib->-r VL-T5/requirements.txt (line 9)) (3.0.6)\n",
            "Requirement already satisfied: kiwisolver>=1.0.1 in /usr/local/lib/python3.7/dist-packages (from matplotlib->-r VL-T5/requirements.txt (line 9)) (1.3.2)\n",
            "Requirement already satisfied: cycler>=0.10 in /usr/local/lib/python3.7/dist-packages (from matplotlib->-r VL-T5/requirements.txt (line 9)) (0.11.0)\n",
            "Collecting portalocker\n",
            "  Downloading portalocker-2.3.2-py2.py3-none-any.whl (15 kB)\n",
            "Collecting colorama\n",
            "  Downloading colorama-0.4.4-py2.py3-none-any.whl (16 kB)\n",
            "Requirement already satisfied: tabulate>=0.8.9 in /usr/local/lib/python3.7/dist-packages (from sacrebleu->-r VL-T5/requirements.txt (line 11)) (0.8.9)\n",
            "Requirement already satisfied: zipp>=0.5 in /usr/local/lib/python3.7/dist-packages (from importlib-metadata->transformers==4.2.1->-r VL-T5/requirements.txt (line 2)) (3.7.0)\n",
            "Requirement already satisfied: joblib in /usr/local/lib/python3.7/dist-packages (from sacremoses->transformers==4.2.1->-r VL-T5/requirements.txt (line 2)) (1.1.0)\n",
            "Requirement already satisfied: tifffile>=2019.7.26 in /usr/local/lib/python3.7/dist-packages (from scikit-image->language-evaluation==0.1.0->-r VL-T5/requirements.txt (line 12)) (2021.11.2)\n",
            "Requirement already satisfied: networkx>=2.0 in /usr/local/lib/python3.7/dist-packages (from scikit-image->language-evaluation==0.1.0->-r VL-T5/requirements.txt (line 12)) (2.6.3)\n",
            "Requirement already satisfied: PyWavelets>=1.1.1 in /usr/local/lib/python3.7/dist-packages (from scikit-image->language-evaluation==0.1.0->-r VL-T5/requirements.txt (line 12)) (1.2.0)\n",
            "Requirement already satisfied: scipy>=1.0.1 in /usr/local/lib/python3.7/dist-packages (from scikit-image->language-evaluation==0.1.0->-r VL-T5/requirements.txt (line 12)) (1.4.1)\n",
            "Requirement already satisfied: imageio>=2.3.0 in /usr/local/lib/python3.7/dist-packages (from scikit-image->language-evaluation==0.1.0->-r VL-T5/requirements.txt (line 12)) (2.4.1)\n",
            "Building wheels for collected packages: language-evaluation, subprocess32, wget, pathtools\n",
            "  Building wheel for language-evaluation (setup.py) ... \u001b[?25l\u001b[?25hdone\n",
            "  Created wheel for language-evaluation: filename=language_evaluation-0.1.0-py3-none-any.whl size=42700525 sha256=992486af1874ef5cc584d7d2e3954fcbef7d047b52ab70704c598439f955da82\n",
            "  Stored in directory: /tmp/pip-ephem-wheel-cache-gwlwh0ae/wheels/8d/fd/6b/f12f08f2fca4312f96a38e1df7c5f5fbebb59480def23f6cb7\n",
            "  Building wheel for subprocess32 (setup.py) ... \u001b[?25l\u001b[?25hdone\n",
            "  Created wheel for subprocess32: filename=subprocess32-3.5.4-py3-none-any.whl size=6502 sha256=81c3775c2b999eb01d406255062464049dc79cc88d4242ae036021687bb4a0c0\n",
            "  Stored in directory: /root/.cache/pip/wheels/50/ca/fa/8fca8d246e64f19488d07567547ddec8eb084e8c0d7a59226a\n",
            "  Building wheel for wget (setup.py) ... \u001b[?25l\u001b[?25hdone\n",
            "  Created wheel for wget: filename=wget-3.2-py3-none-any.whl size=9675 sha256=9a20aa4e6b6d0fd0c607fb821e8f952ef557a7cdba2dbbd94d32c6355009f369\n",
            "  Stored in directory: /root/.cache/pip/wheels/a1/b6/7c/0e63e34eb06634181c63adacca38b79ff8f35c37e3c13e3c02\n",
            "  Building wheel for pathtools (setup.py) ... \u001b[?25l\u001b[?25hdone\n",
            "  Created wheel for pathtools: filename=pathtools-0.1.2-py3-none-any.whl size=8806 sha256=b8c5400aceaec0b482fc3c714b853be93aa38530b32f8f05a60f71800cdaffd0\n",
            "  Stored in directory: /root/.cache/pip/wheels/3e/31/09/fa59cef12cdcfecc627b3d24273699f390e71828921b2cbba2\n",
            "Successfully built language-evaluation subprocess32 wget pathtools\n",
            "Installing collected packages: smmap, gitdb, yaspin, torch, tokenizers, subprocess32, shortuuid, sentry-sdk, sacremoses, portalocker, pathtools, GitPython, docker-pycreds, configparser, colorlog, colorama, wget, wandb, transformers, torchvision, sentencepiece, sacrebleu, language-evaluation\n",
            "  Attempting uninstall: torch\n",
            "    Found existing installation: torch 1.10.0+cu111\n",
            "    Uninstalling torch-1.10.0+cu111:\n",
            "      Successfully uninstalled torch-1.10.0+cu111\n",
            "  Attempting uninstall: torchvision\n",
            "    Found existing installation: torchvision 0.11.1+cu111\n",
            "    Uninstalling torchvision-0.11.1+cu111:\n",
            "      Successfully uninstalled torchvision-0.11.1+cu111\n",
            "\u001b[31mERROR: pip's dependency resolver does not currently take into account all the packages that are installed. This behaviour is the source of the following dependency conflicts.\n",
            "torchtext 0.11.0 requires torch==1.10.0, but you have torch 1.6.0 which is incompatible.\n",
            "torchaudio 0.10.0+cu111 requires torch==1.10.0, but you have torch 1.6.0 which is incompatible.\u001b[0m\n",
            "Successfully installed GitPython-3.1.26 colorama-0.4.4 colorlog-6.6.0 configparser-5.2.0 docker-pycreds-0.4.0 gitdb-4.0.9 language-evaluation-0.1.0 pathtools-0.1.2 portalocker-2.3.2 sacrebleu-2.0.0 sacremoses-0.0.47 sentencepiece-0.1.96 sentry-sdk-1.5.3 shortuuid-1.0.8 smmap-5.0.0 subprocess32-3.5.4 tokenizers-0.9.4 torch-1.6.0 torchvision-0.7.0 transformers-4.2.1 wandb-0.12.9 wget-3.2 yaspin-2.1.0\n",
            "python3: can't open file 'download_backbones.py': [Errno 2] No such file or directory\n"
          ]
        }
      ]
    },
    {
      "cell_type": "markdown",
      "metadata": {
        "id": "kIcGYw4HqSGW"
      },
      "source": [
        "## Download the pretrained checkpoint"
      ]
    },
    {
      "cell_type": "code",
      "metadata": {
        "id": "tdBlncooUJY4"
      },
      "source": [
        "import gdown"
      ],
      "execution_count": null,
      "outputs": []
    },
    {
      "cell_type": "code",
      "metadata": {
        "id": "JXR4YwyiUvp7"
      },
      "source": [
        "!mkdir -p  /content/VL-T5/VL-T5/snap/pretrain/VLT5\n",
        "!mkdir -p  /content/VL-T5/VL-T5/snap/pretrain/VLBart\n",
        "#!mkdir -p snap/vcr_pretrain/VLBart\n",
        "#!mkdir -p snap/vcr_pretrain/VLT5"
      ],
      "execution_count": null,
      "outputs": []
    },
    {
      "cell_type": "code",
      "metadata": {
        "colab": {
          "base_uri": "https://localhost:8080/",
          "height": 174
        },
        "id": "X1aNEiF3UkRE",
        "outputId": "be68b421-b26a-4b10-db03-7a1860b231e5"
      },
      "source": [
        "gdown.download('https://drive.google.com/uc?id=100qajGncE_vc4bfjVxxICwz3dwiAxbIZ', '/content/VL-T5/VL-T5/snap/pretrain/VLT5/Epoch30.pth', quiet=False)\n",
        "gdown.download('https://drive.google.com/uc?id=1fTKGCBfMe2eJ_rivPQu0YkNJTNdv_0aq', '/content/VL-T5/VL-T5/snap/pretrain/VLBart/Epoch30.pth', quiet=False)\n",
        "#gdown.download('https://drive.google.com/uc?id=1jXyMnJJqwrIrHk62WB_ye0dPxBNvIoe5', 'snap/vcr_pretrain/VLT5/Epoch20.pth', quiet=False)\n",
        "#gdown.download('https://drive.google.com/uc?id=1urZFOZTpXuMbU_Q697fwGdmg36an7LDP', 'snap/vcr_pretrain/VLBart/Epoch20.pth', quiet=False)"
      ],
      "execution_count": null,
      "outputs": [
        {
          "output_type": "stream",
          "name": "stderr",
          "text": [
            "Downloading...\n",
            "From: https://drive.google.com/uc?id=100qajGncE_vc4bfjVxxICwz3dwiAxbIZ\n",
            "To: /content/VL-T5/VL-T5/snap/pretrain/VLT5/Epoch30.pth\n",
            "100%|██████████| 898M/898M [00:08<00:00, 109MB/s]\n",
            "Downloading...\n",
            "From: https://drive.google.com/uc?id=1fTKGCBfMe2eJ_rivPQu0YkNJTNdv_0aq\n",
            "To: /content/VL-T5/VL-T5/snap/pretrain/VLBart/Epoch30.pth\n",
            "100%|██████████| 565M/565M [00:12<00:00, 46.0MB/s]\n"
          ]
        },
        {
          "output_type": "execute_result",
          "data": {
            "application/vnd.google.colaboratory.intrinsic+json": {
              "type": "string"
            },
            "text/plain": [
              "'/content/VL-T5/VL-T5/snap/pretrain/VLBart/Epoch30.pth'"
            ]
          },
          "metadata": {},
          "execution_count": 11
        }
      ]
    },
    {
      "cell_type": "markdown",
      "metadata": {
        "id": "hcXsM8fzxozN"
      },
      "source": [
        "Download datasets"
      ]
    },
    {
      "cell_type": "code",
      "metadata": {
        "colab": {
          "base_uri": "https://localhost:8080/"
        },
        "id": "uSZQxFrEy4FV",
        "outputId": "8eace84d-2942-4bb5-d534-e52634f630f8"
      },
      "source": [
        "from google.colab import drive\n",
        "drive.mount('/content/gdrive')\n",
        "!ls /content/gdrive/MyDrive/datasets"
      ],
      "execution_count": null,
      "outputs": [
        {
          "output_type": "stream",
          "name": "stdout",
          "text": [
            "Mounted at /content/gdrive\n",
            "COCO  flickr30k  GQA  lxmert  nlvr  RefCOCO  VCR  VG  vqa\n"
          ]
        }
      ]
    },
    {
      "cell_type": "code",
      "source": [
        "!cp -r '/content/gdrive/MyDrive/datasets' '/content/VL-T5/'\n",
        "!ls '/content/VL-T5/datasets'"
      ],
      "metadata": {
        "colab": {
          "base_uri": "https://localhost:8080/"
        },
        "id": "EOW8Zyb6Ypzm",
        "outputId": "4fa8d2a2-6030-47cd-bdee-5219491ab914"
      },
      "execution_count": null,
      "outputs": [
        {
          "output_type": "stream",
          "name": "stdout",
          "text": [
            "COCO  flickr30k  GQA  lxmert  nlvr  RefCOCO  VCR  VG  vqa\n"
          ]
        }
      ]
    },
    {
      "cell_type": "code",
      "source": [
        "!ls '/content/VL-T5/datasets/nlvr'"
      ],
      "metadata": {
        "colab": {
          "base_uri": "https://localhost:8080/"
        },
        "id": "ej4ZsQjoEaaT",
        "outputId": "5f6f8882-fe15-4676-f77e-488349795b50"
      },
      "execution_count": null,
      "outputs": [
        {
          "output_type": "stream",
          "name": "stdout",
          "text": [
            "features  test.json  train.json  valid.json\n"
          ]
        }
      ]
    },
    {
      "cell_type": "code",
      "source": [
        "cd /content/VL-T5/VL-T5/src"
      ],
      "metadata": {
        "colab": {
          "base_uri": "https://localhost:8080/"
        },
        "id": "-Q7smxWbG4gU",
        "outputId": "8140e619-ee65-4b2e-8976-389d15ea3eb3"
      },
      "execution_count": null,
      "outputs": [
        {
          "output_type": "stream",
          "name": "stdout",
          "text": [
            "/content/VL-T5/VL-T5/src\n"
          ]
        }
      ]
    },
    {
      "cell_type": "code",
      "source": [
        "!ls"
      ],
      "metadata": {
        "colab": {
          "base_uri": "https://localhost:8080/"
        },
        "id": "fU8OOPPoHMR5",
        "outputId": "fe881fcb-37d2-4fed-eaf1-3eb1b38c2d44"
      },
      "execution_count": null,
      "outputs": [
        {
          "output_type": "stream",
          "name": "stdout",
          "text": [
            "caption_data.py   modeling_bart.py    pretrain_data.py\t    tokenization.py\n",
            "caption_model.py  modeling_t5.py      pretrain_model.py     trainer_base.py\n",
            "caption.py\t  multitask_data.py   pretrain.py\t    utils.py\n",
            "dist_utils.py\t  multitask_model.py  pretrain_vcr_data.py  vcr_data.py\n",
            "gqa_data.py\t  multitask.py\t      pretrain_vcr.py\t    vcr_model.py\n",
            "gqa_model.py\t  nlvr_data.py\t      qa_answer_table.py    vcr.py\n",
            "gqa.py\t\t  nlvr_model.py       refcoco_data.py\t    vqa_data.py\n",
            "mmt_data.py\t  nlvr.py\t      refcoco_model.py\t    vqa_model.py\n",
            "mmt_model.py\t  param.py\t      refcoco.py\t    vqa.py\n",
            "mmt.py\t\t  preprocess.py       refcoco_utils.py\n"
          ]
        }
      ]
    },
    {
      "cell_type": "code",
      "source": [
        "!ls  /content/VL-T5/VL-T5/snap/pretrain/VLT5"
      ],
      "metadata": {
        "colab": {
          "base_uri": "https://localhost:8080/"
        },
        "id": "OPEWAJJ7HcfC",
        "outputId": "6dc61137-47a9-4c43-fc3a-21f83bc9ad41"
      },
      "execution_count": null,
      "outputs": [
        {
          "output_type": "stream",
          "name": "stdout",
          "text": [
            "Epoch30.pth\n"
          ]
        }
      ]
    },
    {
      "cell_type": "code",
      "source": [
        "!ls  /content/VL-T5/VL-T5/snap/pretrain/VLBart"
      ],
      "metadata": {
        "colab": {
          "base_uri": "https://localhost:8080/"
        },
        "id": "7DxN16QSZAxi",
        "outputId": "ed7a5100-8b88-4d02-ee56-a1b54cec5640"
      },
      "execution_count": null,
      "outputs": [
        {
          "output_type": "stream",
          "name": "stdout",
          "text": [
            "Epoch30.pth\n"
          ]
        }
      ]
    },
    {
      "cell_type": "markdown",
      "source": [
        "# VL-T5 on NLVR"
      ],
      "metadata": {
        "id": "X1U7KOlYcI0C"
      }
    },
    {
      "cell_type": "code",
      "source": [
        "cd /content/VL-T5/VL-T5/src"
      ],
      "metadata": {
        "colab": {
          "base_uri": "https://localhost:8080/"
        },
        "id": "zXynZUqEmo3f",
        "outputId": "d09fa569-8d63-4b09-b5c4-5863a6e4c41d"
      },
      "execution_count": null,
      "outputs": [
        {
          "output_type": "stream",
          "name": "stdout",
          "text": [
            "/content/VL-T5/VL-T5/src\n"
          ]
        }
      ]
    },
    {
      "cell_type": "code",
      "source": [
        "from nlvr import Trainer\n",
        "from nlvr_data import get_loader\n",
        "from param import parse_args"
      ],
      "metadata": {
        "id": "QgYK15LNHQR-"
      },
      "execution_count": null,
      "outputs": []
    },
    {
      "cell_type": "code",
      "source": [
        "vl_t5_args = parse_args(\n",
        "    parse=False,\n",
        "    backbone='t5-base',\n",
        "    load='/content/VL-T5/VL-T5/snap/pretrain/VLT5/Epoch30',\n",
        "    gpu = 0\n",
        ")\n",
        "valid_batch_size = 10"
      ],
      "metadata": {
        "id": "G-VP4rscmbyJ"
      },
      "execution_count": null,
      "outputs": []
    },
    {
      "cell_type": "code",
      "source": [
        "print(f'Building test submit loader at GPU {0}')\n",
        "vl_t5_test_loader = get_loader(\n",
        "  vl_t5_args,\n",
        "  split='test', mode='test', batch_size=valid_batch_size,\n",
        "  gpu=vl_t5_args.gpu,\n",
        "  workers=4,\n",
        ")\n"
      ],
      "metadata": {
        "colab": {
          "base_uri": "https://localhost:8080/"
        },
        "id": "pm3fU2qeIyAh",
        "outputId": "0a2261be-9087-4623-d3d1-6e82732c605a"
      },
      "execution_count": null,
      "outputs": [
        {
          "output_type": "stream",
          "name": "stdout",
          "text": [
            "Building test submit loader at GPU 0\n",
            "Load 6967 data from split(s) test.\n",
            "Data source:  test\n",
            "# all sentences: 6967\n"
          ]
        }
      ]
    },
    {
      "cell_type": "code",
      "source": [
        "vl_t5_trainer = Trainer(\n",
        "    vl_t5_args,\n",
        "    train=False,\n",
        "    test_loader=vl_t5_test_loader\n",
        ")"
      ],
      "metadata": {
        "colab": {
          "base_uri": "https://localhost:8080/"
        },
        "id": "mipC-lghTUKV",
        "outputId": "478c6896-333e-4664-bbf5-933b5b0c0ced"
      },
      "execution_count": null,
      "outputs": [
        {
          "output_type": "stream",
          "name": "stdout",
          "text": [
            "Building Model at GPU 0\n",
            "Model loaded from  /content/VL-T5/VL-T5/snap/pretrain/VLT5/Epoch30.pth\n",
            "_IncompatibleKeys(missing_keys=[], unexpected_keys=['encoder.visual_embedding.layer_norm.weight'])\n",
            "Model Launching at GPU 0\n",
            "It took 0.6s\n"
          ]
        }
      ]
    },
    {
      "cell_type": "code",
      "source": [
        "vl_t5_acc_dict = vl_t5_trainer.evaluate(vl_t5_test_loader)"
      ],
      "metadata": {
        "colab": {
          "base_uri": "https://localhost:8080/"
        },
        "id": "lxbbCC0XT-VT",
        "outputId": "49173306-21af-4f51-da38-ce36ace4a813"
      },
      "execution_count": null,
      "outputs": [
        {
          "output_type": "stream",
          "name": "stderr",
          "text": [
            "Prediction: 100%|███████████████████████████████████████████████████████████████████████████████████████████████████| 697/697 [03:53<00:00,  2.98it/s]\n"
          ]
        }
      ]
    },
    {
      "cell_type": "code",
      "source": [
        "print(\"VL-T5\")\n",
        "print(\"overall: {}\".format(round(100*vl_t5_acc_dict.get(\"accuracy\"),1)))"
      ],
      "metadata": {
        "colab": {
          "base_uri": "https://localhost:8080/"
        },
        "id": "HOoWtCnOXlhg",
        "outputId": "6ea02942-dbab-47a8-bc69-e0d544bd0d50"
      },
      "execution_count": null,
      "outputs": [
        {
          "output_type": "stream",
          "name": "stdout",
          "text": [
            "VL-T5\n",
            "overall: 50.1\n"
          ]
        }
      ]
    },
    {
      "cell_type": "markdown",
      "source": [
        "# VL-BART on NLVR"
      ],
      "metadata": {
        "id": "EuVVIU7IjfuA"
      }
    },
    {
      "cell_type": "code",
      "source": [
        "from nlvr import Trainer\n",
        "from nlvr_data import get_loader\n",
        "from param import parse_args"
      ],
      "metadata": {
        "id": "LUqXAcxZjKKZ"
      },
      "execution_count": null,
      "outputs": []
    },
    {
      "cell_type": "code",
      "source": [
        "vl_bart_args = parse_args(\n",
        "    parse=False,\n",
        "    backbone='facebook/bart-base',\n",
        "    load='/content/VL-T5/VL-T5/snap/pretrain/VLBart/Epoch30',\n",
        "    gpu = 0\n",
        ")\n",
        "valid_batch_size = 10"
      ],
      "metadata": {
        "id": "iEYwUKvIjXUr"
      },
      "execution_count": null,
      "outputs": []
    },
    {
      "cell_type": "code",
      "source": [
        "print(f'Building test submit loader at GPU {0}')\n",
        "vl_bart_test_loader = get_loader(\n",
        "  vl_bart_args,\n",
        "  split='test', mode='test', batch_size=valid_batch_size,\n",
        "  gpu=vl_bart_args.gpu,\n",
        "  workers=4,\n",
        ")"
      ],
      "metadata": {
        "colab": {
          "base_uri": "https://localhost:8080/"
        },
        "id": "FTV3na3zh6Vn",
        "outputId": "d94473f4-8207-4c81-fb33-5ea5179f86c4"
      },
      "execution_count": null,
      "outputs": [
        {
          "output_type": "stream",
          "name": "stdout",
          "text": [
            "Building test submit loader at GPU 0\n",
            "Load 6967 data from split(s) test.\n",
            "Data source:  test\n",
            "# all sentences: 6967\n"
          ]
        }
      ]
    },
    {
      "cell_type": "code",
      "source": [
        "vl_bart_trainer = Trainer(\n",
        "    vl_bart_args,\n",
        "    train=False,\n",
        "    test_loader=vl_bart_test_loader\n",
        ")"
      ],
      "metadata": {
        "colab": {
          "base_uri": "https://localhost:8080/"
        },
        "id": "yKHcFUFdaf4F",
        "outputId": "ce600231-59b6-4058-edc5-217253a21219"
      },
      "execution_count": null,
      "outputs": [
        {
          "output_type": "stream",
          "name": "stdout",
          "text": [
            "Building Model at GPU 0\n",
            "Vocab resize: 50265 -> 50465\n",
            "Model loaded from  /content/VL-T5/VL-T5/snap/pretrain/VLBart/Epoch30.pth\n",
            "_IncompatibleKeys(missing_keys=['model.encoder.visual_embedding.feat_embedding.1.weight', 'model.encoder.visual_embedding.feat_embedding.1.bias', 'model.encoder.visual_embedding.absolute_vis_pos_embedding.1.weight', 'model.encoder.visual_embedding.absolute_vis_pos_embedding.1.bias'], unexpected_keys=['model.encoder.visual_embedding.layer_norm.weight', 'model.encoder.visual_embedding.layer_norm.bias'])\n",
            "Model Launching at GPU 0\n",
            "It took 0.3s\n"
          ]
        }
      ]
    },
    {
      "cell_type": "code",
      "source": [
        "vl_bart_acc_dict = vl_bart_trainer.evaluate(vl_bart_test_loader)"
      ],
      "metadata": {
        "colab": {
          "base_uri": "https://localhost:8080/"
        },
        "id": "p3dUkQrzaf_4",
        "outputId": "d6fe4bea-fab5-4e5e-e51a-43171811996f"
      },
      "execution_count": null,
      "outputs": [
        {
          "output_type": "stream",
          "name": "stderr",
          "text": [
            "Prediction: 100%|███████████████████████████████████████████████████████████████████████████████████████████████████| 697/697 [01:43<00:00,  6.76it/s]\n"
          ]
        }
      ]
    },
    {
      "cell_type": "code",
      "source": [
        "print(\"VL-Bart\")\n",
        "print(\"overall: {}\".format(round(100*vl_bart_acc_dict.get(\"accuracy\"),1)))"
      ],
      "metadata": {
        "colab": {
          "base_uri": "https://localhost:8080/"
        },
        "id": "b3dChKORagGo",
        "outputId": "39d89c06-abd8-4bbd-c37a-28bd47968e31"
      },
      "execution_count": null,
      "outputs": [
        {
          "output_type": "stream",
          "name": "stdout",
          "text": [
            "VL-Bart\n",
            "overall: 48.6\n"
          ]
        }
      ]
    },
    {
      "cell_type": "code",
      "source": [
        ""
      ],
      "metadata": {
        "id": "LW18QwM7agOF"
      },
      "execution_count": null,
      "outputs": []
    }
  ]
}